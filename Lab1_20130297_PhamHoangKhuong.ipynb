{
  "nbformat": 4,
  "nbformat_minor": 0,
  "metadata": {
    "colab": {
      "provenance": []
    },
    "kernelspec": {
      "name": "python3",
      "display_name": "Python 3"
    },
    "language_info": {
      "name": "python"
    }
  },
  "cells": [
    {
      "cell_type": "markdown",
      "source": [
        "**Task 1.1**\n"
      ],
      "metadata": {
        "id": "NslCdjx9zF6c"
      }
    },
    {
      "cell_type": "code",
      "execution_count": 1,
      "metadata": {
        "colab": {
          "base_uri": "https://localhost:8080/"
        },
        "id": "p3NBL3y-wNn2",
        "outputId": "08dc5be3-83d4-49bf-a8f4-ce131e48fbc8"
      },
      "outputs": [
        {
          "output_type": "stream",
          "name": "stdout",
          "text": [
            "Nhập số nguyên n: 2\n",
            "Nhập số nguyên thứ 1: 1\n",
            "Nhập số nguyên thứ 2: 5\n",
            "Danh sách L: [1, 5]\n",
            "Phần tử lớn nhất trong L: 5\n",
            "Phần tử nhỏ nhất trong L: 1\n",
            "Tổng các phần tử trong L: 6\n",
            "Danh sách L sau khi sắp xếp: [1, 5]\n",
            "Số lượng số dương trong L: 2\n",
            "Số lượng số âm trong L: 0\n"
          ]
        }
      ],
      "source": [
        "def main():\n",
        "    # Nhập n\n",
        "    n = int(input(\"Nhập số nguyên n: \"))\n",
        "\n",
        "    # Nhập n số nguyên x1, x2,..., xn rồi thêm chúng vào danh sách L.\n",
        "    L = []\n",
        "    for i in range(n):\n",
        "        num = int(input(f\"Nhập số nguyên thứ {i+1}: \"))\n",
        "        L.append(num)\n",
        "\n",
        "    # Tìm phần tử max/min trong L.\n",
        "    max_num = max(L)\n",
        "    min_num = min(L)\n",
        "\n",
        "    # Tính tổng các phần tử trong L.\n",
        "    sum_nums = sum(L)\n",
        "\n",
        "    # Sắp xếp danh sách L theo thứ tự tăng dần.\n",
        "    sorted_L = sorted(L)\n",
        "\n",
        "    # Cho biết có bao nhiêu số dương và số âm trong danh sách L.\n",
        "    positive_count = sum(1 for num in L if num > 0)\n",
        "    negative_count = sum(1 for num in L if num < 0)\n",
        "\n",
        "    # Hiển thị kết quả\n",
        "    print(\"Danh sách L:\", L)\n",
        "    print(\"Phần tử lớn nhất trong L:\", max_num)\n",
        "    print(\"Phần tử nhỏ nhất trong L:\", min_num)\n",
        "    print(\"Tổng các phần tử trong L:\", sum_nums)\n",
        "    print(\"Danh sách L sau khi sắp xếp:\", sorted_L)\n",
        "    print(\"Số lượng số dương trong L:\", positive_count)\n",
        "    print(\"Số lượng số âm trong L:\", negative_count)\n",
        "\n",
        "if __name__ == \"__main__\":\n",
        "    main()"
      ]
    },
    {
      "cell_type": "markdown",
      "source": [
        "**Task 1.2**\n"
      ],
      "metadata": {
        "id": "GAn85tO5zOW7"
      }
    },
    {
      "cell_type": "code",
      "source": [
        "def calculate_S(n):\n",
        "    if n <= 0:\n",
        "        return \"n phải lớn hơn 0\"\n",
        "\n",
        "    result = 0\n",
        "    product = 1\n",
        "\n",
        "    for i in range(1, n + 1):\n",
        "        product *= i\n",
        "        result += product\n",
        "\n",
        "    return result\n",
        "\n",
        "# Test the function\n",
        "n = int(input(\"Nhập giá trị n: \"))\n",
        "print(\"Giá trị của S(n) là:\", calculate_S(n))"
      ],
      "metadata": {
        "colab": {
          "base_uri": "https://localhost:8080/"
        },
        "id": "YXki1QcozSio",
        "outputId": "d7d0b338-f141-4983-df2c-a74670cb4e62"
      },
      "execution_count": null,
      "outputs": [
        {
          "output_type": "stream",
          "name": "stdout",
          "text": [
            "Nhập giá trị n: 5\n",
            "Giá trị của S(n) là: 153\n"
          ]
        }
      ]
    },
    {
      "cell_type": "markdown",
      "source": [
        "**Task 1.3**"
      ],
      "metadata": {
        "id": "7eHlo2WPgKnZ"
      }
    },
    {
      "cell_type": "markdown",
      "source": [
        "**Task 2.1**"
      ],
      "metadata": {
        "id": "GvSCg-Ttz-b5"
      }
    },
    {
      "cell_type": "code",
      "source": [
        "import numpy as np\n",
        "\n",
        "# Tạo mảng từ 10 đến 25\n",
        "arr = np.arange(10, 26)\n",
        "\n",
        "# Đảo ngược mảng\n",
        "reversed_arr = np.flip(arr)\n",
        "\n",
        "print(\"Mảng gốc:\", arr)\n",
        "print(\"Mảng sau khi đảo ngược:\", reversed_arr)"
      ],
      "metadata": {
        "colab": {
          "base_uri": "https://localhost:8080/"
        },
        "id": "Wg2Z0dgp0BVc",
        "outputId": "4679f721-ac04-42cf-b107-e676d270ad0a"
      },
      "execution_count": null,
      "outputs": [
        {
          "output_type": "stream",
          "name": "stdout",
          "text": [
            "Mảng gốc: [10 11 12 13 14 15 16 17 18 19 20 21 22 23 24 25]\n",
            "Mảng sau khi đảo ngược: [25 24 23 22 21 20 19 18 17 16 15 14 13 12 11 10]\n"
          ]
        }
      ]
    },
    {
      "cell_type": "markdown",
      "source": [
        "**Task 2.2**"
      ],
      "metadata": {
        "id": "EWctyoya0XWF"
      }
    },
    {
      "cell_type": "code",
      "source": [
        "import numpy as np\n",
        "\n",
        "# Mảng ban đầu\n",
        "original_array = np.array([1, 2, 3, 4])\n",
        "\n",
        "# Lặp lại mảng 2 lần\n",
        "repeated_2_times = np.tile(original_array, 2)\n",
        "\n",
        "# Lặp lại mảng 3 lần\n",
        "repeated_3_times = np.tile(original_array, 3)\n",
        "\n",
        "print(\"Mảng ban đầu:\", original_array)\n",
        "print(\"Lặp lại mảng 2 lần:\", repeated_2_times)\n",
        "print(\"Lặp lại mảng 3 lần:\", repeated_3_times)"
      ],
      "metadata": {
        "colab": {
          "base_uri": "https://localhost:8080/"
        },
        "id": "KzAOvi-G0a_-",
        "outputId": "fe0864db-2add-40c8-f554-0424b0430ad2"
      },
      "execution_count": 6,
      "outputs": [
        {
          "output_type": "stream",
          "name": "stdout",
          "text": [
            "Mảng ban đầu: [1 2 3 4]\n",
            "Lặp lại mảng 2 lần: [1 2 3 4 1 2 3 4]\n",
            "Lặp lại mảng 3 lần: [1 2 3 4 1 2 3 4 1 2 3 4]\n"
          ]
        }
      ]
    },
    {
      "cell_type": "markdown",
      "source": [
        "**Task 2.3**"
      ],
      "metadata": {
        "id": "45fi2Iwg0k6u"
      }
    },
    {
      "cell_type": "code",
      "source": [
        "import numpy as np\n",
        "\n",
        "def replace_less_than(arr, value):\n",
        "    # Tạo một bản sao của mảng để tránh thay đổi mảng gốc\n",
        "    replaced_array = np.copy(arr)\n",
        "\n",
        "    # Thay thế các phần tử nhỏ hơn giá trị đã chỉ định\n",
        "    replaced_array[replaced_array < value] = value\n",
        "\n",
        "    return replaced_array\n",
        "\n",
        "# Mảng ban đầu\n",
        "original_array = np.array([[0.42, 0.48, 0.32],\n",
        "                           [0.74, 0.58, 0.38],\n",
        "                           [0.51, 0.34, 0.15]])\n",
        "\n",
        "# Giá trị để thay thế\n",
        "specified_value = 0.5\n",
        "\n",
        "# Hiển thị mảng ban đầu\n",
        "print(\"Mảng ban đầu:\")\n",
        "print(original_array)\n",
        "\n",
        "# Thay thế các phần tử của mảng ban đầu bằng giá trị chỉ định\n",
        "result_array = replace_less_than(original_array, specified_value)\n",
        "\n",
        "# Hiển thị kết quả\n",
        "print(\"Thay thế tất cả các phần tử của mảng ban đầu bằng\", specified_value, \"đối với các giá trị lớn hơn\", specified_value)\n",
        "print(result_array)"
      ],
      "metadata": {
        "colab": {
          "base_uri": "https://localhost:8080/"
        },
        "id": "-E7EfC3_0nk1",
        "outputId": "621b657f-9a91-43fb-bb6f-484496babbab"
      },
      "execution_count": 7,
      "outputs": [
        {
          "output_type": "stream",
          "name": "stdout",
          "text": [
            "Mảng ban đầu:\n",
            "[[0.42 0.48 0.32]\n",
            " [0.74 0.58 0.38]\n",
            " [0.51 0.34 0.15]]\n",
            "Thay thế tất cả các phần tử của mảng ban đầu bằng 0.5 đối với các giá trị lớn hơn 0.5\n",
            "[[0.5  0.5  0.5 ]\n",
            " [0.74 0.58 0.5 ]\n",
            " [0.51 0.5  0.5 ]]\n"
          ]
        }
      ]
    }
  ]
}