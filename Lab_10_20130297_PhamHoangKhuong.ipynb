{
  "nbformat": 4,
  "nbformat_minor": 0,
  "metadata": {
    "colab": {
      "provenance": [],
      "include_colab_link": true
    },
    "kernelspec": {
      "name": "python3",
      "display_name": "Python 3"
    },
    "language_info": {
      "name": "python"
    }
  },
  "cells": [
    {
      "cell_type": "markdown",
      "metadata": {
        "id": "view-in-github",
        "colab_type": "text"
      },
      "source": [
        "<a href=\"https://colab.research.google.com/github/20130297-PhamHoangKhuong/PhamHoangKhuong/blob/main/Lab_10_20130297_PhamHoangKhuong.ipynb\" target=\"_parent\"><img src=\"https://colab.research.google.com/assets/colab-badge.svg\" alt=\"Open In Colab\"/></a>"
      ]
    },
    {
      "cell_type": "markdown",
      "source": [
        "# This lab deals with **cross validation** for some classification algorithms and **clustering methods** using sklearn api.\n",
        "\n",
        "*   **Deadline: 23:59, 20/5/2024**\n",
        "\n"
      ],
      "metadata": {
        "id": "LMzehe0sy5wr"
      }
    },
    {
      "cell_type": "code",
      "source": [
        "from google.colab import drive\n",
        "drive.mount('/content/gdrive')\n",
        "%cd '/content/gdrive/MyDrive/Colab Notebooks'"
      ],
      "metadata": {
        "colab": {
          "base_uri": "https://localhost:8080/",
          "height": 0
        },
        "id": "dpMwyaQFMu4N",
        "outputId": "c25faf29-c405-4e18-99d6-1014e571b6c3"
      },
      "execution_count": 1,
      "outputs": [
        {
          "output_type": "stream",
          "name": "stdout",
          "text": [
            "Drive already mounted at /content/gdrive; to attempt to forcibly remount, call drive.mount(\"/content/gdrive\", force_remount=True).\n",
            "/content/gdrive/MyDrive/Colab Notebooks\n"
          ]
        }
      ]
    },
    {
      "cell_type": "code",
      "source": [
        "!pip install pandas"
      ],
      "metadata": {
        "colab": {
          "base_uri": "https://localhost:8080/",
          "height": 0
        },
        "id": "OmUUNhdJRylx",
        "outputId": "5bf892a7-ab0b-4703-bacf-403c2c90df30"
      },
      "execution_count": 2,
      "outputs": [
        {
          "output_type": "stream",
          "name": "stdout",
          "text": [
            "Requirement already satisfied: pandas in /usr/local/lib/python3.10/dist-packages (2.0.3)\n",
            "Requirement already satisfied: python-dateutil>=2.8.2 in /usr/local/lib/python3.10/dist-packages (from pandas) (2.8.2)\n",
            "Requirement already satisfied: pytz>=2020.1 in /usr/local/lib/python3.10/dist-packages (from pandas) (2023.4)\n",
            "Requirement already satisfied: tzdata>=2022.1 in /usr/local/lib/python3.10/dist-packages (from pandas) (2024.1)\n",
            "Requirement already satisfied: numpy>=1.21.0 in /usr/local/lib/python3.10/dist-packages (from pandas) (1.25.2)\n",
            "Requirement already satisfied: six>=1.5 in /usr/local/lib/python3.10/dist-packages (from python-dateutil>=2.8.2->pandas) (1.16.0)\n"
          ]
        }
      ]
    },
    {
      "cell_type": "markdown",
      "source": [
        "# Import libraries"
      ],
      "metadata": {
        "id": "H4nJmxp9zGX4"
      }
    },
    {
      "cell_type": "code",
      "execution_count": 9,
      "metadata": {
        "id": "DoVWQ8AEyc-C"
      },
      "outputs": [],
      "source": [
        "# code\n",
        "import numpy as np\n",
        "import pandas as pd\n",
        "import matplotlib.pyplot as plt\n",
        "from sklearn import datasets\n",
        "from sklearn.model_selection import train_test_split\n",
        "from sklearn.svm import SVC\n",
        "from sklearn.model_selection import cross_val_score\n",
        "from sklearn.ensemble import RandomForestClassifier\n",
        "from sklearn.neighbors import KNeighborsClassifier\n",
        "from sklearn.preprocessing import StandardScaler\n",
        "from sklearn.feature_selection import SelectKBest, chi2\n",
        "from prettytable import PrettyTable\n",
        "from sklearn.datasets import fetch_openml\n",
        "from sklearn.cluster import KMeans\n",
        "from sklearn.metrics import accuracy_score, precision_score, recall_score, f1_score\n",
        "from sklearn.metrics import adjusted_rand_score\n",
        "from sklearn.cluster import AgglomerativeClustering\n",
        "from scipy.cluster.hierarchy import dendrogram, linkage"
      ]
    },
    {
      "cell_type": "markdown",
      "source": [
        "#Task 1. With **iris** dataset\n",
        "*  1.1. Apply **SVM** algorithm with cross validation\n"
      ],
      "metadata": {
        "id": "x_dG9SA5OhGT"
      }
    },
    {
      "cell_type": "code",
      "source": [
        "# code\n",
        "# Load dữ liệu Iris\n",
        "iris = datasets.load_iris()\n",
        "X = iris.data\n",
        "y = iris.target\n",
        "\n",
        "# Chia dữ liệu thành tập train và tập test\n",
        "X_train, X_test, y_train, y_test = train_test_split(X, y, test_size=0.2, random_state=42)\n",
        "\n",
        "# Tạo mô hình SVM\n",
        "svm_model = SVC(kernel='linear')\n",
        "\n",
        "# Áp dụng cross-validation với 5 folds\n",
        "scores = cross_val_score(svm_model, X_train, y_train, cv=5)\n",
        "\n",
        "# Đánh giá kết quả cross-validation\n",
        "print(\"Cross-validation scores:\", scores)\n",
        "print(\"Mean accuracy:\", scores.mean())"
      ],
      "metadata": {
        "id": "62jExOZ952fF",
        "colab": {
          "base_uri": "https://localhost:8080/",
          "height": 0
        },
        "outputId": "63d08d9a-64c5-459c-b087-d20300893e52"
      },
      "execution_count": 14,
      "outputs": [
        {
          "output_type": "stream",
          "name": "stdout",
          "text": [
            "Cross-validation scores: [1.         0.95833333 0.875      1.         0.95833333]\n",
            "Mean accuracy: 0.9583333333333334\n"
          ]
        }
      ]
    },
    {
      "cell_type": "markdown",
      "source": [
        "*  1.2 Apply **feature selection** to the dataset and then use **RandomForest**, **kNN** algorithm with cross validation"
      ],
      "metadata": {
        "id": "2g--8cng53sY"
      }
    },
    {
      "cell_type": "code",
      "source": [
        "# code\n",
        "# Chọn các đặc trưng tốt nhất thông qua SelectKBest và chi2\n",
        "k_best_features = SelectKBest(chi2, k=2).fit_transform(X, y)\n",
        "\n",
        "# Chia dữ liệu thành tập train và tập test\n",
        "X_train, X_test, y_train, y_test = train_test_split(k_best_features, y, test_size=0.2, random_state=42)\n",
        "\n",
        "# Tạo mô hình RandomForest\n",
        "rf_model = RandomForestClassifier()\n",
        "\n",
        "# Áp dụng cross-validation với 5 folds cho RandomForest\n",
        "rf_scores = cross_val_score(rf_model, X_train, y_train, cv=5)\n",
        "\n",
        "# Đánh giá kết quả cross-validation của RandomForest\n",
        "print(\"RandomForest cross-validation scores:\", rf_scores)\n",
        "print(\"RandomForest mean accuracy:\", rf_scores.mean())\n",
        "\n",
        "# Tạo mô hình kNN\n",
        "knn_model = KNeighborsClassifier()\n",
        "\n",
        "# Áp dụng cross-validation với 5 folds cho kNN\n",
        "knn_scores = cross_val_score(knn_model, X_train, y_train, cv=5)\n",
        "\n",
        "# Đánh giá kết quả cross-validation của kNN\n",
        "print(\"kNN cross-validation scores:\", knn_scores)\n",
        "print(\"kNN mean accuracy:\", knn_scores.mean())"
      ],
      "metadata": {
        "colab": {
          "base_uri": "https://localhost:8080/",
          "height": 0
        },
        "id": "wIDmfz4xOsXB",
        "outputId": "262d62d3-0ead-407e-dd60-96e29aa0e386"
      },
      "execution_count": 15,
      "outputs": [
        {
          "output_type": "stream",
          "name": "stdout",
          "text": [
            "RandomForest cross-validation scores: [1.         0.95833333 0.83333333 0.95833333 0.95833333]\n",
            "RandomForest mean accuracy: 0.9416666666666668\n",
            "kNN cross-validation scores: [0.95833333 1.         0.83333333 1.         0.95833333]\n",
            "kNN mean accuracy: 0.95\n"
          ]
        }
      ]
    },
    {
      "cell_type": "markdown",
      "source": [
        "*  1.3 Compare the obtained results of these approaches (SVM, RandomForest, kNN) using PrettyTable"
      ],
      "metadata": {
        "id": "gtb8ltIqTohd"
      }
    },
    {
      "cell_type": "code",
      "source": [
        "# code\n",
        "# Tạo bảng dữ liệu\n",
        "table = PrettyTable()\n",
        "table.field_names = [\"Approach\", \"Cross-validation Scores\", \"Mean Accuracy\"]\n",
        "table.add_row([\"SVM\", scores, scores.mean()])\n",
        "table.add_row([\"RandomForest\", rf_scores, rf_scores.mean()])\n",
        "table.add_row([\"kNN\", knn_scores, knn_scores.mean()])\n",
        "\n",
        "# In ra bảng dữ liệu\n",
        "print(table)"
      ],
      "metadata": {
        "id": "N8mWDU2YT26O",
        "colab": {
          "base_uri": "https://localhost:8080/",
          "height": 0
        },
        "outputId": "25df27e7-dd3a-454d-8331-3a763ab39cf0"
      },
      "execution_count": 16,
      "outputs": [
        {
          "output_type": "stream",
          "name": "stdout",
          "text": [
            "+--------------+----------------------------------------------------------+--------------------+\n",
            "|   Approach   |                 Cross-validation Scores                  |   Mean Accuracy    |\n",
            "+--------------+----------------------------------------------------------+--------------------+\n",
            "|     SVM      | [1.         0.95833333 0.875      1.         0.95833333] | 0.9583333333333334 |\n",
            "| RandomForest | [1.         0.95833333 0.83333333 0.95833333 0.95833333] | 0.9416666666666668 |\n",
            "|     kNN      | [0.95833333 1.         0.83333333 1.         0.95833333] |        0.95        |\n",
            "+--------------+----------------------------------------------------------+--------------------+\n"
          ]
        }
      ]
    },
    {
      "cell_type": "markdown",
      "source": [
        "#Task 2. With fashion dataset:\n",
        "*   2.1. Apply **K-Means** algorithm using k=10,"
      ],
      "metadata": {
        "id": "kNv07ARGzOUm"
      }
    },
    {
      "cell_type": "code",
      "source": [
        "# code\n",
        "# Load dữ liệu Fashion-MNIST\n",
        "fashion_mnist = fetch_openml('Fashion-MNIST', version=1, cache=True, parser='auto')\n",
        "\n",
        "# Lấy dữ liệu và nhãn từ tập dữ liệu\n",
        "X = fashion_mnist.data\n",
        "y = fashion_mnist.target\n",
        "\n",
        "# Áp dụng thuật toán K-Means với k=10\n",
        "kmeans = KMeans(n_clusters=10, n_init=5, random_state=42)\n",
        "kmeans.fit(X)\n",
        "\n",
        "# Tính toán độ chính xác\n",
        "kmeans_labels = kmeans.labels_\n",
        "accuracy = adjusted_rand_score(y, kmeans_labels)\n",
        "\n",
        "# In ra các center points (tâm cụm) của các nhóm\n",
        "print(\"Cluster Centers:\")\n",
        "print(kmeans.cluster_centers_)\n",
        "\n",
        "# In ra nhãn dự đoán của các điểm dữ liệu\n",
        "print(\"Predicted Labels:\")\n",
        "print(kmeans.labels_)\n",
        "print(\"K-Means Accuracy: \", accuracy)"
      ],
      "metadata": {
        "id": "sOsg77IBzEyo",
        "colab": {
          "base_uri": "https://localhost:8080/",
          "height": 0
        },
        "outputId": "b245ddf5-a9d3-4935-874b-8a724ecb25a2"
      },
      "execution_count": 7,
      "outputs": [
        {
          "output_type": "stream",
          "name": "stdout",
          "text": [
            "Cluster Centers:\n",
            "[[3.38944752e-04 7.68274771e-03 6.10100554e-02 ... 2.64535081e+00\n",
            "  5.89424924e-01 6.38345950e-02]\n",
            " [1.56407105e-03 2.79298402e-03 1.78750978e-02 ... 3.10847950e+00\n",
            "  1.34029717e+00 8.46832756e-02]\n",
            " [4.41072689e-04 9.08609739e-03 5.06351447e-02 ... 6.37394143e+00\n",
            "  9.20518701e-01 5.22230064e-02]\n",
            " ...\n",
            " [1.29020059e-17 1.07368731e-02 1.07368731e-02 ... 5.80364760e+00\n",
            "  2.65127225e+00 2.02088542e-01]\n",
            " [1.00830802e-17 1.82083030e-03 2.03932993e-02 ... 6.28550619e-01\n",
            "  4.81063365e-01 1.32192280e-01]\n",
            " [2.64069979e-03 2.64069979e-03 7.92209936e-03 ... 4.37365902e-02\n",
            "  7.59201188e-03 1.81548110e-03]]\n",
            "Predicted Labels:\n",
            "[7 4 3 ... 0 3 1]\n",
            "K-Means Accuracy:  0.38486542942077084\n"
          ]
        }
      ]
    },
    {
      "cell_type": "markdown",
      "source": [
        "*   2.2. Compare the obtained result with with other classification algorithms such as **Randomforest**, **kNN**, and **SVM** in terms of accuracy, precision, recall, f1 using cross validation.\n"
      ],
      "metadata": {
        "id": "pnoVB8J4vV36"
      }
    },
    {
      "cell_type": "code",
      "source": [
        "# code\n",
        "# Load dữ liệu Fashion-MNIST\n",
        "fashion_mnist = fetch_openml('Fashion-MNIST', version=1, cache=True, parser='auto')\n",
        "X = fashion_mnist.data\n",
        "y = fashion_mnist.target\n",
        "\n",
        "# Giới hạn kích thước dữ liệu cho K-Means\n",
        "kmeans_data = X[:5]\n",
        "kmeans_labels = y[:5]\n",
        "\n",
        "# K-Means\n",
        "kmeans = KMeans(n_clusters=5, n_init=5, random_state=42)\n",
        "kmeans.fit(kmeans_data)\n",
        "kmeans_predictions = kmeans.predict(kmeans_data)\n",
        "kmeans_accuracy = accuracy_score(kmeans_labels, kmeans_predictions)\n",
        "\n",
        "# Random Forest\n",
        "rf_classifier = RandomForestClassifier(random_state=42)\n",
        "rf_scores = cross_val_score(rf_classifier, X, y, cv=5)\n",
        "rf_accuracy = rf_scores.mean()\n",
        "\n",
        "# kNN\n",
        "knn_classifier = KNeighborsClassifier()\n",
        "knn_scores = cross_val_score(knn_classifier, X, y, cv=5)\n",
        "knn_accuracy = knn_scores.mean()\n",
        "\n",
        "# Print accuracy scores\n",
        "print(\"Accuracy Scores:\")\n",
        "print(\"K-Means: \", kmeans_accuracy)\n",
        "print(\"Random Forest: \", rf_accuracy)\n",
        "print(\"kNN: \", knn_accuracy)\n",
        "\n",
        "# Calculate additional metrics using the best performing algorithm (e.g., Random Forest)\n",
        "rf_classifier.fit(X, y)\n",
        "y_pred = rf_classifier.predict(X)\n",
        "precision = precision_score(y, y_pred, average='macro')\n",
        "recall = recall_score(y, y_pred, average='macro')\n",
        "f1 = f1_score(y, y_pred, average='macro')\n",
        "\n",
        "# Print additional metrics\n",
        "print(\"Precision: \", precision)\n",
        "print(\"Recall: \", recall)\n",
        "print(\"F1-score: \", f1)"
      ],
      "metadata": {
        "id": "-ZTSvsJdvYqI",
        "colab": {
          "base_uri": "https://localhost:8080/",
          "height": 0
        },
        "outputId": "81675f08-a6f8-4612-ee3a-545969ca6111"
      },
      "execution_count": 8,
      "outputs": [
        {
          "output_type": "stream",
          "name": "stdout",
          "text": [
            "Accuracy Scores:\n",
            "K-Means:  0.0\n",
            "Random Forest:  0.8834142857142858\n",
            "kNN:  0.8561285714285715\n",
            "Precision:  1.0\n",
            "Recall:  1.0\n",
            "F1-score:  1.0\n"
          ]
        }
      ]
    },
    {
      "cell_type": "markdown",
      "source": [
        "*   2.3. From the obtained results, **which approach is better** for this problem: Supervised learning or Unsupervised learning?"
      ],
      "metadata": {
        "id": "uyey-ndXvZlb"
      }
    },
    {
      "cell_type": "code",
      "source": [
        "# code\n",
        "## Supervised learning ##"
      ],
      "metadata": {
        "id": "Qzh_D-rgvbv9"
      },
      "execution_count": null,
      "outputs": []
    },
    {
      "cell_type": "markdown",
      "source": [
        "2.4. Apply **AgglomerativeClustering** algorithm to fashion dataset using the number of clusters is 10"
      ],
      "metadata": {
        "id": "ol1U_T_NvcqV"
      }
    },
    {
      "cell_type": "code",
      "source": [
        "# code\n",
        "# Load the Fashion-MNIST dataset\n",
        "fashion_mnist = fetch_openml('Fashion-MNIST', version=1, cache=True, as_frame=False, parser='auto')\n",
        "\n",
        "# Extract the data and labels\n",
        "data = fashion_mnist.data\n",
        "labels = fashion_mnist.target\n",
        "\n",
        "# Specify the number of clusters\n",
        "n_clusters = 10\n",
        "\n",
        "# Create a random sample of the data\n",
        "np.random.seed(0)\n",
        "sample_indices = np.random.choice(len(data), 10, replace=False)\n",
        "data_sample = data[sample_indices]\n",
        "\n",
        "# Create an instance of AgglomerativeClustering\n",
        "clustering = AgglomerativeClustering(n_clusters=n_clusters)\n",
        "\n",
        "# Fit the model to the data sample\n",
        "labels_pred = clustering.fit_predict(data_sample)\n",
        "\n",
        "# Print the predicted cluster labels\n",
        "print(labels_pred)"
      ],
      "metadata": {
        "id": "8h4qqiIBSytO",
        "colab": {
          "base_uri": "https://localhost:8080/",
          "height": 0
        },
        "outputId": "9676dcd9-d23f-4872-d6a3-348971645f2a"
      },
      "execution_count": 5,
      "outputs": [
        {
          "output_type": "stream",
          "name": "stdout",
          "text": [
            "[5 7 9 8 6 2 3 4 1 0]\n"
          ]
        }
      ]
    },
    {
      "cell_type": "markdown",
      "source": [
        "#Task 3.\n",
        "For given dataset (shopping-data.csv) including 5 attributes: **CustomerID**, **Genre**, **Age**, **Annual Income**, and **Spending Score**.\n",
        "*   3.1. Using the **scipy library** to create the dendrograms for the given dataset (remember drop categorical attributes: **CustomerID**, **Genre**)\n",
        "\n",
        "\n",
        "\n"
      ],
      "metadata": {
        "id": "b52OPWPD2afi"
      }
    },
    {
      "cell_type": "code",
      "source": [
        "# code\n",
        "# Load the dataset\n",
        "data = pd.read_csv('shopping-data.csv')\n",
        "\n",
        "# Drop categorical attributes\n",
        "data = data.drop(['CustomerID', 'Genre'], axis=1)\n",
        "\n",
        "# Perform hierarchical clustering\n",
        "Z = linkage(data, method='ward')\n",
        "\n",
        "# Create and plot the dendrogram\n",
        "plt.figure(figsize=(10, 6))\n",
        "dendrogram(Z)\n",
        "plt.xlabel('Samples')\n",
        "plt.ylabel('Distance')\n",
        "plt.title('Dendrogram')\n",
        "plt.show()"
      ],
      "metadata": {
        "id": "YYY2dLtH3P8H",
        "colab": {
          "base_uri": "https://localhost:8080/",
          "height": 564
        },
        "outputId": "0d1c8898-0b95-49fd-85e1-149da94069f4"
      },
      "execution_count": 8,
      "outputs": [
        {
          "output_type": "display_data",
          "data": {
            "text/plain": [
              "<Figure size 1000x600 with 1 Axes>"
            ],
            "image/png": "[encoded data removed]"
          },
          "metadata": {}
        }
      ]
    },
    {
      "cell_type": "markdown",
      "source": [
        "*   3.2. Apply K-Means to the preprocessed dataset with k belongs to [2,10]. Then compute SSE values and plot them to find the best value of k."
      ],
      "metadata": {
        "id": "eHlh_dWUyEMr"
      }
    },
    {
      "cell_type": "code",
      "source": [
        "# code\n",
        "# Load the preprocessed dataset\n",
        "data = pd.read_csv('shopping-data.csv')\n",
        "\n",
        "# Drop categorical attributes\n",
        "data = data.drop(['CustomerID', 'Genre'], axis=1)\n",
        "\n",
        "# Standardize the data\n",
        "scaler = StandardScaler()\n",
        "data_scaled = scaler.fit_transform(data)\n",
        "\n",
        "# Initialize a list to store SSE values\n",
        "sse = []\n",
        "\n",
        "# Try different values of k\n",
        "k_values = range(2, 11)\n",
        "for k in k_values:\n",
        "    # Create a KMeans instance\n",
        "    kmeans = KMeans(n_clusters=k, n_init=10, random_state=42)\n",
        "\n",
        "    # Fit the model to the scaled data\n",
        "    kmeans.fit(data_scaled)\n",
        "\n",
        "    # Compute SSE and append it to the list\n",
        "    sse.append(kmeans.inertia_)\n",
        "\n",
        "# Plot SSE values\n",
        "plt.plot(k_values, sse, marker='o')\n",
        "plt.xlabel('Number of Clusters (k)')\n",
        "plt.ylabel('Sum of Squared Errors (SSE)')\n",
        "plt.title('Elbow Method')\n",
        "plt.show()"
      ],
      "metadata": {
        "id": "8vx3mfIidu4P",
        "colab": {
          "base_uri": "https://localhost:8080/",
          "height": 472
        },
        "outputId": "195a9989-b5df-4a68-d904-b6767c540d9b"
      },
      "execution_count": 11,
      "outputs": [
        {
          "output_type": "display_data",
          "data": {
            "text/plain": [
              "<Figure size 640x480 with 1 Axes>"
            ],
            "image/png": "[encoded data removed]"
          },
          "metadata": {}
        }
      ]
    },
    {
      "cell_type": "markdown",
      "source": [
        "*   3.3. From the obtained dengrograms, choose an appropriate number of clusters and apply **AgglomerativeClustering** algorithm to the given dataset"
      ],
      "metadata": {
        "id": "RJpsTIiyv-1h"
      }
    },
    {
      "cell_type": "code",
      "source": [
        "# code\n",
        "# Load the dataset\n",
        "data = pd.read_csv('shopping-data.csv')\n",
        "\n",
        "# Drop categorical attributes\n",
        "data = data.drop(['CustomerID', 'Genre'], axis=1)\n",
        "\n",
        "# Standardize the data\n",
        "scaler = StandardScaler()\n",
        "data_scaled = scaler.fit_transform(data)\n",
        "\n",
        "# Perform hierarchical clustering\n",
        "Z = linkage(data_scaled, method='ward')\n",
        "\n",
        "# Create and plot the dendrogram\n",
        "plt.figure(figsize=(10, 6))\n",
        "dendrogram(Z)\n",
        "plt.xlabel('Samples')\n",
        "plt.ylabel('Distance')\n",
        "plt.title('Dendrogram')\n",
        "plt.show()\n",
        "\n",
        "# Choose the number of clusters based on the dendrogram\n",
        "n_clusters = 3  # Choose the appropriate number of clusters\n",
        "\n",
        "# Apply AgglomerativeClustering\n",
        "agglomerative = AgglomerativeClustering(n_clusters=n_clusters)\n",
        "labels = agglomerative.fit_predict(data_scaled)\n",
        "\n",
        "# Assign the cluster labels to the original dataset\n",
        "data['Cluster'] = labels\n",
        "\n",
        "# Print the resulting clusters\n",
        "print(data['Cluster'].value_counts())\n",
        "\n",
        "# Apply K-Means clustering\n",
        "kmeans = KMeans(n_clusters=n_clusters, n_init=10, random_state=42)\n",
        "kmeans.fit(data_scaled)\n",
        "kmeans_labels = kmeans.labels_\n",
        "\n",
        "# Assign the cluster labels from K-Means to the original dataset\n",
        "data['KMeans_Cluster'] = kmeans_labels\n",
        "\n",
        "# Print the resulting clusters from K-Means\n",
        "print(data['KMeans_Cluster'].value_counts())"
      ],
      "metadata": {
        "id": "5ZE7A0Au1Pg0",
        "colab": {
          "base_uri": "https://localhost:8080/",
          "height": 738
        },
        "outputId": "1066613c-4133-4d6e-e4db-1273b5017d33"
      },
      "execution_count": 13,
      "outputs": [
        {
          "output_type": "display_data",
          "data": {
            "text/plain": [
              "<Figure size 1000x600 with 1 Axes>"
            ],
            "image/png": "[encoded data removed]"
          },
          "metadata": {}
        },
        {
          "output_type": "stream",
          "name": "stdout",
          "text": [
            "Cluster\n",
            "0    95\n",
            "1    66\n",
            "2    39\n",
            "Name: count, dtype: int64\n",
            "KMeans_Cluster\n",
            "2    91\n",
            "0    68\n",
            "1    41\n",
            "Name: count, dtype: int64\n"
          ]
        }
      ]
    },
    {
      "cell_type": "markdown",
      "source": [
        "#Finally,\n",
        "Save a copy in your Github. Remember renaming the notebook."
      ],
      "metadata": {
        "id": "Ok7RGkea_b7n"
      }
    }
  ]
}